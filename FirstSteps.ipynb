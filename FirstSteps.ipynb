{
  "nbformat": 4,
  "nbformat_minor": 0,
  "metadata": {
    "colab": {
      "name": "FirstSteps.ipynb",
      "provenance": [],
      "collapsed_sections": [],
      "toc_visible": true,
      "authorship_tag": "ABX9TyNzjZRVOnmjfGrN4eGgylPJ",
      "include_colab_link": true
    },
    "kernelspec": {
      "name": "python3",
      "display_name": "Python 3"
    },
    "language_info": {
      "name": "python"
    }
  },
  "cells": [
    {
      "cell_type": "markdown",
      "metadata": {
        "id": "view-in-github",
        "colab_type": "text"
      },
      "source": [
        "<a href=\"https://colab.research.google.com/github/K-Viera/Phyton/blob/main/FirstSteps.ipynb\" target=\"_parent\"><img src=\"https://colab.research.google.com/assets/colab-badge.svg\" alt=\"Open In Colab\"/></a>"
      ]
    },
    {
      "cell_type": "markdown",
      "source": [
        "# First Steps\n"
      ],
      "metadata": {
        "id": "GOwkWkoUdMXP"
      }
    },
    {
      "cell_type": "code",
      "execution_count": null,
      "metadata": {
        "id": "vZ3TWPWpbQKA",
        "colab": {
          "base_uri": "https://localhost:8080/"
        },
        "outputId": "0a6ce21d-edcc-4364-9dd6-8ff4b2647113"
      },
      "outputs": [
        {
          "output_type": "stream",
          "name": "stdout",
          "text": [
            "hello world\n"
          ]
        }
      ],
      "source": [
        "print(\"hello world\")"
      ]
    },
    {
      "cell_type": "code",
      "source": [
        "x=5\n",
        "y=\"kevin\"\n",
        "print(type(x))\n",
        "print(type(y))\n",
        "print(x,y) #have a space by default\n",
        "# print(x + y) not possible because have diferent data types\n",
        "print(str(x)+\" \"+y)\n"
      ],
      "metadata": {
        "colab": {
          "base_uri": "https://localhost:8080/"
        },
        "id": "dfEahQIMFNX-",
        "outputId": "052bdbb4-ff4d-4244-a4fe-053b8750370c"
      },
      "execution_count": null,
      "outputs": [
        {
          "output_type": "stream",
          "name": "stdout",
          "text": [
            "<class 'int'>\n",
            "<class 'str'>\n",
            "5 kevin\n",
            "5 kevin\n"
          ]
        }
      ]
    },
    {
      "cell_type": "markdown",
      "source": [
        "### Randoms"
      ],
      "metadata": {
        "id": "365lgJH8InR4"
      }
    },
    {
      "cell_type": "code",
      "source": [
        "#to use random we need to import a built-in module\n",
        "import random\n",
        "print(random.randrange(1,10))\n",
        "print(random.randrange(1,10))\n",
        "print(random.randrange(1,10))\n",
        "print(random.randrange(1,10))\n",
        "print(random.randrange(1,10))"
      ],
      "metadata": {
        "colab": {
          "base_uri": "https://localhost:8080/"
        },
        "id": "0gtQCUi8IWG4",
        "outputId": "9037d44f-0f72-4a6c-f47c-688591ca2f2a"
      },
      "execution_count": null,
      "outputs": [
        {
          "output_type": "stream",
          "name": "stdout",
          "text": [
            "9\n",
            "4\n",
            "6\n",
            "1\n",
            "3\n"
          ]
        }
      ]
    },
    {
      "cell_type": "markdown",
      "source": [
        "## Functions\n"
      ],
      "metadata": {
        "id": "WzaW9mYLMfrt"
      }
    },
    {
      "cell_type": "code",
      "source": [
        "def my_function(name=\"default name\"):\n",
        "  if name!=\"default name\":\n",
        "    print(\"hello {}\".format(name))\n",
        "  return name\n",
        "\n",
        "my_function(\"kevin\")\n",
        "my_function(\"viera\")\n",
        "print(my_function())"
      ],
      "metadata": {
        "colab": {
          "base_uri": "https://localhost:8080/"
        },
        "id": "ti8kmr4YMkiX",
        "outputId": "3f2085cc-79ed-4458-dc7e-f920f0b8204b"
      },
      "execution_count": 13,
      "outputs": [
        {
          "output_type": "stream",
          "name": "stdout",
          "text": [
            "hello kevin\n",
            "hello viera\n",
            "default name\n"
          ]
        }
      ]
    },
    {
      "cell_type": "code",
      "source": [
        "def arbitrary_fuction(*names):\n",
        "  print(type(names))\n",
        "  print(names);\n",
        "  # print(names[2]) Error because the first function call only set 1 argument\n",
        "\n",
        "arbitrary_fuction(\"kevin\");\n",
        "arbitrary_fuction(\"Kevin\",\"viera\")\n",
        "arbitrary_fuction(\"kevin\",\"Viera\",3)"
      ],
      "metadata": {
        "colab": {
          "base_uri": "https://localhost:8080/"
        },
        "id": "keg1Z_MsN9a9",
        "outputId": "e144707e-81da-4f8d-f11c-10ddf31fe2e3"
      },
      "execution_count": 10,
      "outputs": [
        {
          "output_type": "stream",
          "name": "stdout",
          "text": [
            "<class 'tuple'>\n",
            "('kevin',)\n",
            "<class 'tuple'>\n",
            "('Kevin', 'viera')\n",
            "<class 'tuple'>\n",
            "('kevin', 'Viera', 3)\n"
          ]
        }
      ]
    },
    {
      "cell_type": "markdown",
      "source": [
        "## Class and objects\n",
        "\n",
        "\n",
        "\n",
        "\n"
      ],
      "metadata": {
        "id": "CTsaT48Fz4Si"
      }
    },
    {
      "cell_type": "code",
      "source": [
        "class Student:\n",
        "  def __init__(self, name, major, gpa, is_on_probation):\n",
        "    self.name = name\n",
        "    self.major = major\n",
        "    self.gpa=gpa\n",
        "    self.is_on_probation=is_on_probation\n",
        "\n",
        "  def changeGPA(self,gpa):\n",
        "    #Phyton allow create global variable inside functions\n",
        "    global lastGPA\n",
        "    lastGPA=self.gpa\n",
        "    self.gpa=gpa\n",
        "    \n"
      ],
      "metadata": {
        "id": "Xq9ylK4Rz9rN"
      },
      "execution_count": null,
      "outputs": []
    },
    {
      "cell_type": "code",
      "source": [
        "student1=Student(\"jim\",\"business\",3.1,False)\n",
        "print(student1.gpa)\n",
        "student1.changeGPA(2.5)\n",
        "print(student1.gpa)\n",
        "print(lastGPA)\n",
        "student2=Student(\"Kevin\",\"Engineering\",1.5,True)\n",
        "student2.changeGPA(2)\n",
        "print(lastGPA)"
      ],
      "metadata": {
        "colab": {
          "base_uri": "https://localhost:8080/"
        },
        "id": "kFH44uiJ0-Vz",
        "outputId": "1b9ff16e-5d4e-44df-f525-01c7fd3b51f0"
      },
      "execution_count": null,
      "outputs": [
        {
          "output_type": "stream",
          "name": "stdout",
          "text": [
            "3.1\n",
            "2.5\n",
            "3.1\n",
            "1.5\n"
          ]
        }
      ]
    }
  ]
}